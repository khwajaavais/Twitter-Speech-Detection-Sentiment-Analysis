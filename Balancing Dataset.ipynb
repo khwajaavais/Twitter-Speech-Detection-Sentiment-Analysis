{
 "cells": [
  {
   "cell_type": "markdown",
   "id": "dc69f3b7",
   "metadata": {},
   "source": [
    "## Packages"
   ]
  },
  {
   "cell_type": "code",
   "execution_count": 1,
   "id": "eeba0ab8",
   "metadata": {},
   "outputs": [],
   "source": [
    "import pandas as pd\n",
    "import numpy as np\n",
    "import matplotlib.pyplot as plt\n",
    "import seaborn as sns\n",
    "\n",
    "from sklearn.model_selection import train_test_split\n",
    "from sklearn.pipeline import Pipeline\n",
    "\n",
    "from sklearn.feature_extraction.text import ENGLISH_STOP_WORDS, TfidfVectorizer\n",
    "from sklearn.linear_model import LogisticRegression"
   ]
  },
  {
   "cell_type": "markdown",
   "id": "b6cf68c7",
   "metadata": {},
   "source": [
    "---"
   ]
  },
  {
   "cell_type": "markdown",
   "id": "35d0fee8",
   "metadata": {},
   "source": [
    "#### Data Loading"
   ]
  },
  {
   "cell_type": "code",
   "execution_count": 2,
   "id": "70f9041b",
   "metadata": {},
   "outputs": [],
   "source": [
    "data = pd.read_csv('dataset/twitter_sentiments.csv')\n",
    "data.head()\n",
    "\n",
    "data.drop(['id'], inplace=True, axis=1)"
   ]
  },
  {
   "cell_type": "code",
   "execution_count": null,
   "id": "0e95defd",
   "metadata": {},
   "outputs": [],
   "source": []
  },
  {
   "cell_type": "code",
   "execution_count": 3,
   "id": "03b65bb3",
   "metadata": {},
   "outputs": [
    {
     "name": "stdout",
     "output_type": "stream",
     "text": [
      "Class 0 :: percentage of data : 92.99%\n",
      "Class 1 :: percentage of data : 7.01%\n",
      "\n",
      "Class 0 is 13.27x times more than Class 1\n"
     ]
    }
   ],
   "source": [
    "print(f'Class 0 :: percentage of data : {round(data.label.value_counts()[0] / data.shape[0] * 100,2)}%')\n",
    "print(f'Class 1 :: percentage of data : {round(data.label.value_counts()[1] / data.shape[0] * 100,2)}%')\n",
    "\n",
    "more = round(data.label.value_counts()[0] / data.shape[0] * 100,2) / round(data.label.value_counts()[1] / data.shape[0] * 100,2)\n",
    "\n",
    "print(f'\\nClass 0 is {round(more,2)}x times more than Class 1')"
   ]
  },
  {
   "cell_type": "code",
   "execution_count": 4,
   "id": "1ff1c32f",
   "metadata": {},
   "outputs": [
    {
     "name": "stdout",
     "output_type": "stream",
     "text": [
      "(29720, 2)\n",
      "(2242, 2)\n"
     ]
    }
   ],
   "source": [
    "print(data[data[\"label\"]==0].shape)\n",
    "print(data[data[\"label\"]==1].shape)"
   ]
  },
  {
   "cell_type": "code",
   "execution_count": 5,
   "id": "40249068",
   "metadata": {},
   "outputs": [],
   "source": [
    "# Dependent Attribute // Target Attribute\n",
    "y = data['label']\n",
    "\n",
    "# Independent Attribute\n",
    "X = data.drop(['label'], axis=1)"
   ]
  },
  {
   "cell_type": "code",
   "execution_count": 6,
   "id": "56212631",
   "metadata": {},
   "outputs": [
    {
     "name": "stderr",
     "output_type": "stream",
     "text": [
      "C:\\Users\\khwaj\\anaconda3\\lib\\site-packages\\seaborn\\_decorators.py:43: FutureWarning: Pass the following variable as a keyword arg: x. From version 0.12, the only valid positional argument will be `data`, and passing other arguments without an explicit keyword will result in an error or misinterpretation.\n",
      "  FutureWarning\n"
     ]
    },
    {
     "data": {
      "image/png": "[encoded data removed]",
      "text/plain": [
       "<Figure size 720x432 with 1 Axes>"
      ]
     },
     "metadata": {
      "needs_background": "light"
     },
     "output_type": "display_data"
    }
   ],
   "source": [
    "\n",
    "import matplotlib.pyplot as plt\n",
    "\n",
    "plt.figure(figsize=(10,6))\n",
    "sns.set_style(\"darkgrid\")\n",
    "sns.countplot(np.ravel(y))\n",
    "plt.yticks(range(0,40000,1200))\n",
    "\n",
    "plt.ylabel('Count')\n",
    "plt.xlabel('Sentiments ')\n",
    "\n",
    "plt.show()"
   ]
  },
  {
   "cell_type": "code",
   "execution_count": 7,
   "id": "ed6cf26d",
   "metadata": {},
   "outputs": [],
   "source": [
    "# from imblearn.random_sampling  import RandomOverSampler\n",
    "from imblearn.over_sampling import RandomOverSampler\n",
    "\n",
    "rdm=RandomOverSampler()\n",
    "X,y=rdm.fit_sample(X,y)\n",
    "\n",
    "Data = pd.concat([X,y],axis=1)  #updating the balanced form of dataset"
   ]
  },
  {
   "cell_type": "code",
   "execution_count": 8,
   "id": "b8fc81dd",
   "metadata": {},
   "outputs": [
    {
     "data": {
      "text/html": [
       "<div>\n",
       "<style scoped>\n",
       "    .dataframe tbody tr th:only-of-type {\n",
       "        vertical-align: middle;\n",
       "    }\n",
       "\n",
       "    .dataframe tbody tr th {\n",
       "        vertical-align: top;\n",
       "    }\n",
       "\n",
       "    .dataframe thead th {\n",
       "        text-align: right;\n",
       "    }\n",
       "</style>\n",
       "<table border=\"1\" class=\"dataframe\">\n",
       "  <thead>\n",
       "    <tr style=\"text-align: right;\">\n",
       "      <th></th>\n",
       "      <th>tweet</th>\n",
       "      <th>label</th>\n",
       "    </tr>\n",
       "  </thead>\n",
       "  <tbody>\n",
       "    <tr>\n",
       "      <th>0</th>\n",
       "      <td>@user when a father is dysfunctional and is s...</td>\n",
       "      <td>0</td>\n",
       "    </tr>\n",
       "    <tr>\n",
       "      <th>1</th>\n",
       "      <td>@user @user thanks for #lyft credit i can't us...</td>\n",
       "      <td>0</td>\n",
       "    </tr>\n",
       "    <tr>\n",
       "      <th>2</th>\n",
       "      <td>bihday your majesty</td>\n",
       "      <td>0</td>\n",
       "    </tr>\n",
       "    <tr>\n",
       "      <th>3</th>\n",
       "      <td>#model   i love u take with u all the time in ...</td>\n",
       "      <td>0</td>\n",
       "    </tr>\n",
       "    <tr>\n",
       "      <th>4</th>\n",
       "      <td>factsguide: society now    #motivation</td>\n",
       "      <td>0</td>\n",
       "    </tr>\n",
       "  </tbody>\n",
       "</table>\n",
       "</div>"
      ],
      "text/plain": [
       "                                               tweet  label\n",
       "0   @user when a father is dysfunctional and is s...      0\n",
       "1  @user @user thanks for #lyft credit i can't us...      0\n",
       "2                                bihday your majesty      0\n",
       "3  #model   i love u take with u all the time in ...      0\n",
       "4             factsguide: society now    #motivation      0"
      ]
     },
     "execution_count": 8,
     "metadata": {},
     "output_type": "execute_result"
    }
   ],
   "source": [
    "Data.head()"
   ]
  },
  {
   "cell_type": "code",
   "execution_count": 9,
   "id": "140f222b",
   "metadata": {},
   "outputs": [
    {
     "data": {
      "text/plain": [
       "(59440, 2)"
      ]
     },
     "execution_count": 9,
     "metadata": {},
     "output_type": "execute_result"
    }
   ],
   "source": [
    "Data.shape"
   ]
  },
  {
   "cell_type": "code",
   "execution_count": 10,
   "id": "0e550a2f",
   "metadata": {},
   "outputs": [
    {
     "data": {
      "text/plain": [
       "0    29720\n",
       "1    29720\n",
       "Name: label, dtype: int64"
      ]
     },
     "execution_count": 10,
     "metadata": {},
     "output_type": "execute_result"
    }
   ],
   "source": [
    "Data['label'].value_counts()"
   ]
  },
  {
   "cell_type": "code",
   "execution_count": 11,
   "id": "bca678c0",
   "metadata": {},
   "outputs": [
    {
     "name": "stdout",
     "output_type": "stream",
     "text": [
      "(29720, 2)\n",
      "(29720, 2)\n"
     ]
    }
   ],
   "source": [
    "print(Data[Data[\"label\"]==0].shape)\n",
    "print(Data[Data[\"label\"]==1].shape)"
   ]
  },
  {
   "cell_type": "markdown",
   "id": "a0b5f312",
   "metadata": {},
   "source": [
    "#### Train Test Split\n",
    "\n",
    "<pre>\n",
    "We will stratify the data on the label column so that the distribution of the target label will be the same in both \n",
    "train and test data"
   ]
  },
  {
   "cell_type": "code",
   "execution_count": 12,
   "id": "d1ecc75e",
   "metadata": {},
   "outputs": [],
   "source": [
    "Y = Data['label']"
   ]
  },
  {
   "cell_type": "code",
   "execution_count": 13,
   "id": "e46d54ac",
   "metadata": {},
   "outputs": [],
   "source": [
    "train,test = train_test_split(Data,test_size=0.2, stratify=Y, random_state=20)"
   ]
  },
  {
   "cell_type": "code",
   "execution_count": null,
   "id": "aa3600ea",
   "metadata": {},
   "outputs": [],
   "source": []
  },
  {
   "cell_type": "markdown",
   "id": "f3224048",
   "metadata": {},
   "source": [
    "## Pipeline"
   ]
  },
  {
   "cell_type": "markdown",
   "id": "a5f5ac77",
   "metadata": {},
   "source": [
    "<pre><b>\n",
    "As we know for the implementing the Logistic Regression Model ; We need the data in proper format i.e. the unnecessary \n",
    "words need to be remove before predicting the result\n",
    "\n",
    "In order to implement this we need to create a pipeline and add both the models i.e. Tfidf and the Logistic Regression \n",
    "with the required parameters"
   ]
  },
  {
   "cell_type": "code",
   "execution_count": 14,
   "id": "c8ede674",
   "metadata": {},
   "outputs": [],
   "source": [
    "pipeline = Pipeline(steps=[\n",
    "    \n",
    "    ('tfidf', TfidfVectorizer(lowercase= True,\\\n",
    "                             stop_words=ENGLISH_STOP_WORDS,\\\n",
    "                             max_features=1000)),\n",
    "    \n",
    "    ('lr_model', LogisticRegression())\n",
    "    \n",
    "])"
   ]
  },
  {
   "cell_type": "code",
   "execution_count": 15,
   "id": "986916c5",
   "metadata": {},
   "outputs": [
    {
     "data": {
      "text/plain": [
       "Pipeline(steps=[('tfidf',\n",
       "                 TfidfVectorizer(max_features=1000,\n",
       "                                 stop_words=frozenset({'a', 'about', 'above',\n",
       "                                                       'across', 'after',\n",
       "                                                       'afterwards', 'again',\n",
       "                                                       'against', 'all',\n",
       "                                                       'almost', 'alone',\n",
       "                                                       'along', 'already',\n",
       "                                                       'also', 'although',\n",
       "                                                       'always', 'am', 'among',\n",
       "                                                       'amongst', 'amoungst',\n",
       "                                                       'amount', 'an', 'and',\n",
       "                                                       'another', 'any',\n",
       "                                                       'anyhow', 'anyone',\n",
       "                                                       'anything', 'anyway',\n",
       "                                                       'anywhere', ...}))),\n",
       "                ('lr_model', LogisticRegression())])"
      ]
     },
     "execution_count": 15,
     "metadata": {},
     "output_type": "execute_result"
    }
   ],
   "source": [
    "# Fitting the Training Dataset\n",
    "pipeline.fit(train.tweet, train.label)"
   ]
  },
  {
   "cell_type": "markdown",
   "id": "feca832e",
   "metadata": {},
   "source": [
    "### Testing the Pipeline"
   ]
  },
  {
   "cell_type": "code",
   "execution_count": 16,
   "id": "3d1586ef",
   "metadata": {},
   "outputs": [
    {
     "data": {
      "text/plain": [
       "array([1], dtype=int64)"
      ]
     },
     "execution_count": 16,
     "metadata": {},
     "output_type": "execute_result"
    }
   ],
   "source": [
    "text = ['This isnt great news for the Muslim Community!!']\n",
    "\n",
    "pipeline.predict(text)"
   ]
  },
  {
   "cell_type": "code",
   "execution_count": 17,
   "id": "da1adfde",
   "metadata": {},
   "outputs": [
    {
     "data": {
      "text/plain": [
       "array([1], dtype=int64)"
      ]
     },
     "execution_count": 17,
     "metadata": {},
     "output_type": "execute_result"
    }
   ],
   "source": [
    "# text = ['You Mother Fucker!! Dont you have sense in communicating with the BOSS']\n",
    "# text = [\"@user #cnn calls #michigan middle school 'build the wall' chant '' #tcot \"]\n",
    "\n",
    "# text = [\"I’m in the mood to kill a [racial slur], who’s with me?\"]\n",
    "# text = [\"retweet if you agree! \"]\n",
    "\n",
    "# text = [\"I’m sick of these [religious group] thinking they are better than us, if any of you see someone wearing a [religious symbol of the religious group], grab it off them and post pics!\"]\n",
    "\n",
    "# text =['Scotland abolished torture in 1708, France did so in 1798, and other countries followed suit, so that by the beginning of the 19th century the practice of torture had been officially abandoned in much of Europe.']\n",
    "# text = [\"I will burn aout the entire place if any of our army is attacked or toutured\"]\n",
    "\n",
    "text =[\"A more concerted effort against torture was galvanized by the revelation of atrocities committed by Japan \\\n",
    "        and Nazi Germany during World War II.\"]\n",
    "\n",
    "pipeline.predict(text)"
   ]
  },
  {
   "cell_type": "code",
   "execution_count": 18,
   "id": "97861ccc",
   "metadata": {},
   "outputs": [
    {
     "data": {
      "text/plain": [
       "array([1], dtype=int64)"
      ]
     },
     "execution_count": 18,
     "metadata": {},
     "output_type": "execute_result"
    }
   ],
   "source": [
    "text = [\"WHat the hell are you up too. You cant do this. This is agaunst the law. You cant kill someone\"]\n",
    "\n",
    "pipeline.predict(text)"
   ]
  },
  {
   "cell_type": "code",
   "execution_count": null,
   "id": "ee5cbfab",
   "metadata": {},
   "outputs": [],
   "source": []
  },
  {
   "cell_type": "markdown",
   "id": "ba25d6cd",
   "metadata": {},
   "source": [
    "## Saving the Pipeline Model"
   ]
  },
  {
   "cell_type": "code",
   "execution_count": 19,
   "id": "1dd468b9",
   "metadata": {},
   "outputs": [
    {
     "data": {
      "text/plain": [
       "['text_classification.joblib']"
      ]
     },
     "execution_count": 19,
     "metadata": {},
     "output_type": "execute_result"
    }
   ],
   "source": [
    "# import joblib\n",
    "from joblib import dump\n",
    "\n",
    "# dump the pipeline model\n",
    "dump(pipeline, filename=\"text_classification.joblib\")"
   ]
  },
  {
   "cell_type": "markdown",
   "id": "7649c093",
   "metadata": {},
   "source": [
    "#### Testing the saved model"
   ]
  },
  {
   "cell_type": "code",
   "execution_count": 20,
   "id": "02249bcd",
   "metadata": {},
   "outputs": [
    {
     "data": {
      "text/plain": [
       "array([0], dtype=int64)"
      ]
     },
     "execution_count": 20,
     "metadata": {},
     "output_type": "execute_result"
    }
   ],
   "source": [
    "# import joblib\n",
    "from joblib import load\n",
    "\n",
    "# sample tweet text\n",
    "text = [\"Virat Kohli, AB de Villiers set to auction their 'Green Day' kits from 2016 IPL match to raise funds\"]\n",
    "\n",
    "# load the saved pipleine model\n",
    "pipeline = load(\"text_classification.joblib\")\n",
    "\n",
    "# predict on the sample tweet text\n",
    "pipeline.predict(text)"
   ]
  },
  {
   "cell_type": "code",
   "execution_count": null,
   "id": "c23fdbb4",
   "metadata": {},
   "outputs": [],
   "source": []
  }
 ],
 "metadata": {
  "kernelspec": {
   "display_name": "Python 3 (ipykernel)",
   "language": "python",
   "name": "python3"
  },
  "language_info": {
   "codemirror_mode": {
    "name": "ipython",
    "version": 3
   },
   "file_extension": ".py",
   "mimetype": "text/x-python",
   "name": "python",
   "nbconvert_exporter": "python",
   "pygments_lexer": "ipython3",
   "version": "3.7.9"
  }
 },
 "nbformat": 4,
 "nbformat_minor": 5
}
