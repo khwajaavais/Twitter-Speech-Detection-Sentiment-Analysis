{
 "cells": [
  {
   "cell_type": "markdown",
   "id": "5157a661",
   "metadata": {},
   "source": [
    "<h1 align='center'> Twitter API Connection"
   ]
  },
  {
   "cell_type": "markdown",
   "id": "c7ceb8d7",
   "metadata": {},
   "source": [
    " "
   ]
  },
  {
   "cell_type": "markdown",
   "id": "ce0192a7",
   "metadata": {},
   "source": [
    "Refer: https://www.earthdatascience.org/courses/use-data-open-source-python/intro-to-apis/twitter-data-in-python/"
   ]
  },
  {
   "cell_type": "markdown",
   "id": "30a405db",
   "metadata": {},
   "source": [
    "# Importing Packages"
   ]
  },
  {
   "cell_type": "code",
   "execution_count": 44,
   "id": "e7c85a2f",
   "metadata": {},
   "outputs": [],
   "source": [
    "import tweepy\n",
    "import pandas as pd\n",
    "import numpy as np\n",
    "pd.set_option('display.max_colwidth', 1000)\n",
    "\n",
    "import matplotlib.pyplot as plt\n",
    "import seaborn as sns\n",
    "\n",
    "import time\n",
    "\n",
    "%matplotlib inline"
   ]
  },
  {
   "cell_type": "markdown",
   "id": "0e5c4e8c",
   "metadata": {},
   "source": [
    " "
   ]
  },
  {
   "cell_type": "markdown",
   "id": "866a1fac",
   "metadata": {},
   "source": [
    "## Setting API Key"
   ]
  },
  {
   "cell_type": "code",
   "execution_count": 25,
   "id": "698684aa",
   "metadata": {},
   "outputs": [],
   "source": [
    "# API KEY\n",
    "api_key = \"fcJESZ5sIhOyJ36Gtb34xKOiI\"\n",
    "api_key_secret = \"yLTe2IxT9csyRUl0FbdwlKy77AOXmpliIlYOxFnZB6aaslVLUv\"\n",
    "\n",
    "# Access Token\n",
    "access_token = \"1442924034266521602-7zmGLoz2zrEfNL6ahTCYPSnVUlExyc\"\n",
    "access_token_secret = \"3kfnme3pFiPfrRXlH6DuYFSByu0ZZqtWeZmJQHeBmqpac\""
   ]
  },
  {
   "cell_type": "markdown",
   "id": "a5b3fd65",
   "metadata": {},
   "source": [
    " "
   ]
  },
  {
   "cell_type": "markdown",
   "id": "d8a1b0f4",
   "metadata": {},
   "source": [
    "## API Authentication"
   ]
  },
  {
   "cell_type": "code",
   "execution_count": 26,
   "id": "4781734a",
   "metadata": {},
   "outputs": [],
   "source": [
    "authentication = tweepy.OAuthHandler(api_key, api_key_secret)\n",
    "authentication.set_access_token(access_token, access_token_secret)"
   ]
  },
  {
   "cell_type": "code",
   "execution_count": 27,
   "id": "5ca27f21",
   "metadata": {},
   "outputs": [],
   "source": [
    "api = tweepy.API(authentication, wait_on_rate_limit=True)"
   ]
  },
  {
   "cell_type": "markdown",
   "id": "e442d1a2",
   "metadata": {},
   "source": [
    " "
   ]
  },
  {
   "cell_type": "markdown",
   "id": "9038aca9",
   "metadata": {},
   "source": [
    "### Getting Tweets related to words entered"
   ]
  },
  {
   "cell_type": "code",
   "execution_count": 48,
   "id": "4a7401a0",
   "metadata": {},
   "outputs": [],
   "source": [
    "def get_related_tweets(text):\n",
    "    \n",
    "    '''\n",
    "    This function will help you to fetch real-time data from Twitter Using Python via Tweepy.\n",
    "    This function requires one parameter i.e. the text. \n",
    "    This will be searched in the Twitter to fetch the tweets related to entered keyword.\n",
    "    \n",
    "    Returns the data in the form of Pandas DataFrame which include the Tweet Time, Tweet ID and the Actual Tweet.\n",
    "    '''\n",
    "\n",
    "    # List to store the tweets\n",
    "    tweet_list = []\n",
    "    \n",
    "    # No of tweet to be searched\n",
    "    n = 50\n",
    "\n",
    "\n",
    "    try:\n",
    "        for tweet in api.search_tweets(q=text, count=n, lang=\"en\"):\n",
    "            print(tweet.text)\n",
    "            \n",
    "            ## Adding the tweets to the list\n",
    "            tweet_list.append(\n",
    "            {\n",
    "                'Created_At':tweet.created_at,\n",
    "                'Tweet_Id': tweet.id,\n",
    "                'Tweet_Text': tweet.text\n",
    "            })\n",
    "            \n",
    "        return pd.DataFrame.from_dict(tweet_list)\n",
    "    \n",
    "    except BaseException as e:\n",
    "        print(f'Failed On_Status {e}')\n",
    "        time.sleep(3)"
   ]
  },
  {
   "cell_type": "code",
   "execution_count": 49,
   "id": "871bc994",
   "metadata": {
    "scrolled": true
   },
   "outputs": [
    {
     "name": "stdout",
     "output_type": "stream",
     "text": [
      "RT @CCBetting2018: When your clients send you screen shots of their winning bets with the subject line \"Hats Off!\" 😃 Join the winning team…\n",
      "Suryakumar Yadav and Ishan Kishan, who are going through a bad phase, might be replaced by Shreyas Iyer and Shikhar… https://t.co/UJCoeEVBid\n",
      "When your clients send you screen shots of their winning bets with the subject line \"Hats Off!\" 😃 Join the winning… https://t.co/mqrTq2ua1O\n",
      "RT @cricbuzz: Kolkata strengthen their place in the Playoffs race with a win over Delhi as all the action moves to Abu Dhabi for Mumbai v P…\n",
      "Hope He Regain His Form Soon! 🤞\n",
      ".\n",
      ".\n",
      "#IPL #IPL2021 #MIvPBKS #suryakumaryadav https://t.co/BVxxHsrqfs\n",
      "RT @IExpressSports: IPL 2021 Points Table, Purple Cap, Orange Cap Holders List: Points table, most runs and most wickets takers for season…\n",
      "RT @Jeenasports: ❤️\n",
      "Back-to-back fifties for Sanju Samson as he crosses 400 runs this season.\n",
      "#SanjuSamson \n",
      "#IPL2021 https://t.co/VXhKJJMlGb\n",
      "RT @Microtek_india: Predict the Sixer Champion in today's evening match and share your answers in the comments section.\n",
      "Winners to be picke…\n",
      "RT @cricbuzz: Kieron Pollard | Man of the Match:\n",
      "\n",
      "\"I admit that I don't have pace, swing and seam but I have a little bit of brain and I tr…\n",
      "RT @ESPNcricinfo: Eyes on the prize 🎯\n",
      "\n",
      "#IPL2021 live ⏩ https://t.co/XvzcypKRUD https://t.co/qgENqrSMTL\n",
      "RT @ESPNcricinfo: What a win for Mumbai!\n",
      "\n",
      "19th over ➜ 1  .  4  2  4  6\n",
      "\n",
      "HARDIK PANDYA you beauty 🔥\n",
      "\n",
      "#MIvPBKS | #IPL2021\n",
      "@IExpressSports Check https://t.co/tsA7t1cv5D to try out different combinations and predict the playoffs. #IPL2021\n",
      "RT @KKRiders: 𝕋𝕙𝕖 𝕂𝕚𝕨𝕚 𝔻𝕖𝕝𝕚𝕘𝕙𝕥 😍 \n",
      "\n",
      "How good was it to see them together in 💜💛\n",
      "\n",
      "#KKRvDC #KKR #AmiKKR #KorboLorboJeetbo #আমিKKR #IPL2021 http…\n",
      "Life of a MI FAN🤫\n",
      "\n",
      "- RS &gt; MSD as a captain \n",
      "- 5 IPL Trophies \n",
      "- CSK was banned for 2 years \n",
      "- One bad season \n",
      "- Dho… https://t.co/APbdsCmnqT\n",
      "RT @FAISALAHMEDSH13: He's still my champ\n",
      "#Dhoni #CSK #IPL2021 #Cricket #MSDhoni https://t.co/9V76T5bFvx\n",
      "RT @ESPNcricinfo: What a win for Mumbai!\n",
      "\n",
      "19th over ➜ 1  .  4  2  4  6\n",
      "\n",
      "HARDIK PANDYA you beauty 🔥\n",
      "\n",
      "#MIvPBKS | #IPL2021\n",
      "RT @man4_cricket: David Warner Confirms that he won't be part of SRH playing XI in remainder of the tournament in #IPL2021.\n",
      "RT @StarSportsIndia: Mumbai che Superheroes! 💪\n",
      "\n",
      "On a scale of 😍 to 😲,  rate #MumbaiIndians' bowling!\n",
      "\n",
      "#MIvPBKS #IPL2021 #VIVOIPL #OneFamily…\n",
      "@RockWithboAt @SDhawan25 A. 6\n",
      "\n",
      " #SoundOfChampions #KKRvDC #IPL2021 #IPL @RockWithboAt\n",
      "\n",
      "Join \n",
      "@mysterioussu… https://t.co/2MwdE57iXh\n",
      "RT @cricbuzz: Kolkata strengthen their place in the Playoffs race with a win over Delhi as all the action moves to Abu Dhabi for Mumbai v P…\n",
      "RT @viz_sports: What a comeback by CSK in this season!! 😭😍\n",
      "#IPL2021 #VIVOIPL #CSK https://t.co/cwsjcTRjR7\n",
      "@PoppingCreaseSA Hardik playing how we once came to expect of him by all accounts.  Many thanks for your updates.  .#IPL2021\n",
      "Last overs were difference in victory and defeat- Samson https://t.co/gUKnJmAENV via @sportstarweb #SanjuSamson… https://t.co/zgf55TuGQA\n",
      "RT @IShobhitGoyal: No matter what Critics or Rationale people think about MI \n",
      "\n",
      "But the Fact is MI has &gt;60% win ratio against CSK, RCB &amp; KKR…\n",
      "RT @cricbuzz: Kieron Pollard | Man of the Match:\n",
      "\n",
      "\"I admit that I don't have pace, swing and seam but I have a little bit of brain and I tr…\n",
      "RT @i_Prathit: Some people need to be easy on Shubman Gill. I mean in this match, no proper batsmen(of both teams) batted with high strike…\n",
      "RT @RCBTweets: IPL 2021 RR v RCB | Build Up\n",
      "\n",
      "Confidence is high in the camp after the win against MI and the team would like to take that f…\n",
      "@surya_14kumar is still India's best batsman of spin and he will come back strong and win the World Cup for India.\n",
      "#SuryakumarYadav #IPL2021\n",
      "RT @MandarSawant184: Mumbai Indians are unlikely to make playoffs this year in my assessment, though they do surprise. \n",
      "For the coming big…\n",
      "RT @KKRiders: We 𝙍𝙖𝙣𝙖-outta words to describe that knock from @NitishRana_27! 👏\n",
      "\n",
      "Can you try? 👇😉\n",
      "\n",
      "#KKRvDC #KKR #AmiKKR #KorboLorboJeetbo #আ…\n",
      "RT @realpreityzinta: Quarantine mood ✨ #ipl2021 #gameday #ting https://t.co/7Wf3pM1BWn\n",
      "RT @cricketaakash: Might be an unpopular opinion but in the Indian Premier League…either the captain or the coach should be an Indian. Idea…\n",
      "RT @ViratGang: The Media Won't Show This 😊\n",
      "\n",
      "@imVkohli • @ImRo45 • #IPL2021 https://t.co/cBQrwZ4oUP\n",
      "@RockWithboAt @SDhawan25 Answer)- 6 Consecutive #IPL Seasons\n",
      "\n",
      " #SoundOfChampion @RockWithboAt \n",
      "\n",
      "#KKRvDC #IPL2021… https://t.co/bqhCJ5BkbR\n",
      "RT @ESPNcricinfo: WICKET!\n",
      "\n",
      "Nathan Ellis removes the well-set Saurabh Tiwary 🔥\n",
      "\n",
      "Who is winning this? 👀\n",
      "\n",
      "#MIvPBKS | #IPL2021\n",
      "RT @ViratGang: The Media Won't Show This 😊\n",
      "\n",
      "@imVkohli • @ImRo45 • #IPL2021 https://t.co/cBQrwZ4oUP\n",
      "RT @ESPNcricinfo: Eyes on the prize 🎯\n",
      "\n",
      "#IPL2021 live ⏩ https://t.co/XvzcypKRUD https://t.co/qgENqrSMTL\n",
      "RT @ESPNcricinfo: What a win for Mumbai!\n",
      "\n",
      "19th over ➜ 1  .  4  2  4  6\n",
      "\n",
      "HARDIK PANDYA you beauty 🔥\n",
      "\n",
      "#MIvPBKS | #IPL2021\n",
      "RT @ESPNcricinfo: KL Rahul was honest during the #MIvPBKS presentation... \n",
      "\n",
      "Can Punjab Kings qualify for the playoffs this year?\n",
      "\n",
      "#IPL2021…\n",
      "#IPL2021 #Game42 @mipaltan back to winning ways after beating @PunjabKingsIPL by 6 wkts. #MI jump to 5th on table w… https://t.co/OK8ONxJPmB\n",
      "RT @petsfamilia: We present to you the ninth question of the #IPL Team Contest! \n",
      "\n",
      "Remember, the individual that gets the most correct answe…\n"
     ]
    }
   ],
   "source": [
    "related_data = get_related_tweets('IPL2021')"
   ]
  },
  {
   "cell_type": "code",
   "execution_count": 50,
   "id": "df1e0374",
   "metadata": {},
   "outputs": [
    {
     "data": {
      "text/html": [
       "<div>\n",
       "<style scoped>\n",
       "    .dataframe tbody tr th:only-of-type {\n",
       "        vertical-align: middle;\n",
       "    }\n",
       "\n",
       "    .dataframe tbody tr th {\n",
       "        vertical-align: top;\n",
       "    }\n",
       "\n",
       "    .dataframe thead th {\n",
       "        text-align: right;\n",
       "    }\n",
       "</style>\n",
       "<table border=\"1\" class=\"dataframe\">\n",
       "  <thead>\n",
       "    <tr style=\"text-align: right;\">\n",
       "      <th></th>\n",
       "      <th>Created_At</th>\n",
       "      <th>Tweet_Id</th>\n",
       "      <th>Tweet_Text</th>\n",
       "    </tr>\n",
       "  </thead>\n",
       "  <tbody>\n",
       "    <tr>\n",
       "      <th>0</th>\n",
       "      <td>2021-09-28 21:23:31+00:00</td>\n",
       "      <td>1442963205966290949</td>\n",
       "      <td>RT @CCBetting2018: When your clients send you screen shots of their winning bets with the subject line \"Hats Off!\" 😃 Join the winning team…</td>\n",
       "    </tr>\n",
       "    <tr>\n",
       "      <th>1</th>\n",
       "      <td>2021-09-28 21:22:55+00:00</td>\n",
       "      <td>1442963054300307457</td>\n",
       "      <td>Suryakumar Yadav and Ishan Kishan, who are going through a bad phase, might be replaced by Shreyas Iyer and Shikhar… https://t.co/UJCoeEVBid</td>\n",
       "    </tr>\n",
       "    <tr>\n",
       "      <th>2</th>\n",
       "      <td>2021-09-28 21:20:46+00:00</td>\n",
       "      <td>1442962514191392773</td>\n",
       "      <td>When your clients send you screen shots of their winning bets with the subject line \"Hats Off!\" 😃 Join the winning… https://t.co/mqrTq2ua1O</td>\n",
       "    </tr>\n",
       "    <tr>\n",
       "      <th>3</th>\n",
       "      <td>2021-09-28 21:20:25+00:00</td>\n",
       "      <td>1442962423833501699</td>\n",
       "      <td>RT @cricbuzz: Kolkata strengthen their place in the Playoffs race with a win over Delhi as all the action moves to Abu Dhabi for Mumbai v P…</td>\n",
       "    </tr>\n",
       "    <tr>\n",
       "      <th>4</th>\n",
       "      <td>2021-09-28 21:19:30+00:00</td>\n",
       "      <td>1442962195382300672</td>\n",
       "      <td>Hope He Regain His Form Soon! 🤞\\n.\\n.\\n#IPL #IPL2021 #MIvPBKS #suryakumaryadav https://t.co/BVxxHsrqfs</td>\n",
       "    </tr>\n",
       "  </tbody>\n",
       "</table>\n",
       "</div>"
      ],
      "text/plain": [
       "                 Created_At             Tweet_Id  \\\n",
       "0 2021-09-28 21:23:31+00:00  1442963205966290949   \n",
       "1 2021-09-28 21:22:55+00:00  1442963054300307457   \n",
       "2 2021-09-28 21:20:46+00:00  1442962514191392773   \n",
       "3 2021-09-28 21:20:25+00:00  1442962423833501699   \n",
       "4 2021-09-28 21:19:30+00:00  1442962195382300672   \n",
       "\n",
       "                                                                                                                                     Tweet_Text  \n",
       "0   RT @CCBetting2018: When your clients send you screen shots of their winning bets with the subject line \"Hats Off!\" 😃 Join the winning team…  \n",
       "1  Suryakumar Yadav and Ishan Kishan, who are going through a bad phase, might be replaced by Shreyas Iyer and Shikhar… https://t.co/UJCoeEVBid  \n",
       "2   When your clients send you screen shots of their winning bets with the subject line \"Hats Off!\" 😃 Join the winning… https://t.co/mqrTq2ua1O  \n",
       "3  RT @cricbuzz: Kolkata strengthen their place in the Playoffs race with a win over Delhi as all the action moves to Abu Dhabi for Mumbai v P…  \n",
       "4                                        Hope He Regain His Form Soon! 🤞\\n.\\n.\\n#IPL #IPL2021 #MIvPBKS #suryakumaryadav https://t.co/BVxxHsrqfs  "
      ]
     },
     "execution_count": 50,
     "metadata": {},
     "output_type": "execute_result"
    }
   ],
   "source": [
    "related_data.head()"
   ]
  },
  {
   "cell_type": "markdown",
   "id": "9774a935",
   "metadata": {},
   "source": [
    "#### POSTING A TWEET ON TWITTER Using TWEEPY"
   ]
  },
  {
   "cell_type": "code",
   "execution_count": null,
   "id": "b0d82bb9",
   "metadata": {},
   "outputs": [],
   "source": [
    "# # Post a tweet from Python\n",
    "# api.update_status(\"Look, I'm tweeting from #Python in my #earthanalytics class! @EarthLabCU\")\n",
    "# # Your tweet has been posted!"
   ]
  },
  {
   "cell_type": "code",
   "execution_count": null,
   "id": "917ef163",
   "metadata": {},
   "outputs": [],
   "source": []
  },
  {
   "cell_type": "markdown",
   "id": "16601367",
   "metadata": {},
   "source": [
    "### Method 2:"
   ]
  },
  {
   "cell_type": "code",
   "execution_count": 33,
   "id": "c068f954",
   "metadata": {},
   "outputs": [
    {
     "data": {
      "text/plain": [
       "['With #wildfires being more common now, how does the smoke affect #IAQ? Learn about the consequences for your #HVAC… https://t.co/Vg5s3AHMc0',\n",
       " 'RT @m_parrington: Smoke transport across North America from continuing #California #wildfires in #CopernicusAtmosphere aerosol optical dept…',\n",
       " '🧑\\u200d🚒🌲🔥 More than 1400 Firefighters on the line to battle wildfires in the heart of Sequoia country. \\n#firefighetrs… https://t.co/k7g8P0OEri',\n",
       " 'RT @SgkPlanet_en: The ABC of #Wildfires: Australia, Brazil, and California \\nSimilarities and differences of the wildfires in these three zo…',\n",
       " 'RT @WonderWoman4USA: Not climate change, just a crazy \"scientist.\" But I\\'m being redundant. \\n#California #Wildfires \\nhttps://t.co/oCxIP2clVr']"
      ]
     },
     "execution_count": 33,
     "metadata": {},
     "output_type": "execute_result"
    }
   ],
   "source": [
    "# Define the search term and the date_since date as variables\n",
    "search_words = \"#wildfires\"\n",
    "date_since = \"2018-11-16\"\n",
    "    \n",
    "# Collect tweets\n",
    "tweets = tweepy.Cursor(api.search_tweets,\n",
    "                       q=search_words,\n",
    "                       lang=\"en\").items(5)\n",
    "\n",
    "# Collect a list of tweets\n",
    "[tweet.text for tweet in tweets]\n"
   ]
  },
  {
   "cell_type": "code",
   "execution_count": null,
   "id": "881ca203",
   "metadata": {},
   "outputs": [],
   "source": []
  }
 ],
 "metadata": {
  "kernelspec": {
   "display_name": "Python 3 (ipykernel)",
   "language": "python",
   "name": "python3"
  },
  "language_info": {
   "codemirror_mode": {
    "name": "ipython",
    "version": 3
   },
   "file_extension": ".py",
   "mimetype": "text/x-python",
   "name": "python",
   "nbconvert_exporter": "python",
   "pygments_lexer": "ipython3",
   "version": "3.7.9"
  }
 },
 "nbformat": 4,
 "nbformat_minor": 5
}
