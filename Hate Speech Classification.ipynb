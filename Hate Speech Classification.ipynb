{
 "cells": [
  {
   "cell_type": "markdown",
   "id": "ca605def",
   "metadata": {},
   "source": [
    "<h1 align='center'> Twitter Tweets Hate Speech Clasification"
   ]
  },
  {
   "cell_type": "markdown",
   "id": "3d2147a0",
   "metadata": {},
   "source": [
    "---"
   ]
  },
  {
   "cell_type": "markdown",
   "id": "dc69f3b7",
   "metadata": {},
   "source": [
    "## Packages"
   ]
  },
  {
   "cell_type": "code",
   "execution_count": 1,
   "id": "eeba0ab8",
   "metadata": {},
   "outputs": [],
   "source": [
    "import pandas as pd\n",
    "import numpy as np\n",
    "import matplotlib.pyplot as plt\n",
    "\n",
    "from sklearn.model_selection import train_test_split\n",
    "from sklearn.pipeline import Pipeline\n",
    "\n",
    "from sklearn.feature_extraction.text import ENGLISH_STOP_WORDS, TfidfVectorizer\n",
    "from sklearn.linear_model import LogisticRegression"
   ]
  },
  {
   "cell_type": "markdown",
   "id": "b6cf68c7",
   "metadata": {},
   "source": [
    "---"
   ]
  },
  {
   "cell_type": "markdown",
   "id": "35d0fee8",
   "metadata": {},
   "source": [
    "#### Data Loading"
   ]
  },
  {
   "cell_type": "code",
   "execution_count": 2,
   "id": "65878663",
   "metadata": {},
   "outputs": [],
   "source": [
    "data = pd.read_csv('dataset/twitter_sentiments.csv')\n",
    "data.head()\n",
    "\n",
    "data.drop(['id'], inplace=True, axis=1)"
   ]
  },
  {
   "cell_type": "code",
   "execution_count": 3,
   "id": "c3de75e5",
   "metadata": {},
   "outputs": [
    {
     "data": {
      "text/html": [
       "<div>\n",
       "<style scoped>\n",
       "    .dataframe tbody tr th:only-of-type {\n",
       "        vertical-align: middle;\n",
       "    }\n",
       "\n",
       "    .dataframe tbody tr th {\n",
       "        vertical-align: top;\n",
       "    }\n",
       "\n",
       "    .dataframe thead th {\n",
       "        text-align: right;\n",
       "    }\n",
       "</style>\n",
       "<table border=\"1\" class=\"dataframe\">\n",
       "  <thead>\n",
       "    <tr style=\"text-align: right;\">\n",
       "      <th></th>\n",
       "      <th>label</th>\n",
       "      <th>tweet</th>\n",
       "    </tr>\n",
       "  </thead>\n",
       "  <tbody>\n",
       "    <tr>\n",
       "      <th>0</th>\n",
       "      <td>0</td>\n",
       "      <td>@user when a father is dysfunctional and is s...</td>\n",
       "    </tr>\n",
       "    <tr>\n",
       "      <th>1</th>\n",
       "      <td>0</td>\n",
       "      <td>@user @user thanks for #lyft credit i can't us...</td>\n",
       "    </tr>\n",
       "    <tr>\n",
       "      <th>2</th>\n",
       "      <td>0</td>\n",
       "      <td>bihday your majesty</td>\n",
       "    </tr>\n",
       "    <tr>\n",
       "      <th>3</th>\n",
       "      <td>0</td>\n",
       "      <td>#model   i love u take with u all the time in ...</td>\n",
       "    </tr>\n",
       "    <tr>\n",
       "      <th>4</th>\n",
       "      <td>0</td>\n",
       "      <td>factsguide: society now    #motivation</td>\n",
       "    </tr>\n",
       "  </tbody>\n",
       "</table>\n",
       "</div>"
      ],
      "text/plain": [
       "   label                                              tweet\n",
       "0      0   @user when a father is dysfunctional and is s...\n",
       "1      0  @user @user thanks for #lyft credit i can't us...\n",
       "2      0                                bihday your majesty\n",
       "3      0  #model   i love u take with u all the time in ...\n",
       "4      0             factsguide: society now    #motivation"
      ]
     },
     "execution_count": 3,
     "metadata": {},
     "output_type": "execute_result"
    }
   ],
   "source": [
    "data.head()"
   ]
  },
  {
   "cell_type": "markdown",
   "id": "7544c779",
   "metadata": {},
   "source": [
    "#### Check for Null Values"
   ]
  },
  {
   "cell_type": "code",
   "execution_count": 4,
   "id": "876c4f73",
   "metadata": {},
   "outputs": [
    {
     "data": {
      "text/plain": [
       "label    0\n",
       "tweet    0\n",
       "dtype: int64"
      ]
     },
     "execution_count": 4,
     "metadata": {},
     "output_type": "execute_result"
    }
   ],
   "source": [
    "data.isnull().sum()"
   ]
  },
  {
   "cell_type": "code",
   "execution_count": 5,
   "id": "8f22b5d9",
   "metadata": {},
   "outputs": [
    {
     "data": {
      "text/plain": [
       "label    False\n",
       "tweet    False\n",
       "dtype: bool"
      ]
     },
     "execution_count": 5,
     "metadata": {},
     "output_type": "execute_result"
    }
   ],
   "source": [
    "data.isnull().any()"
   ]
  },
  {
   "cell_type": "markdown",
   "id": "ac0bc672",
   "metadata": {},
   "source": [
    "#### Describe"
   ]
  },
  {
   "cell_type": "code",
   "execution_count": 6,
   "id": "aec7482e",
   "metadata": {},
   "outputs": [
    {
     "data": {
      "text/html": [
       "<div>\n",
       "<style scoped>\n",
       "    .dataframe tbody tr th:only-of-type {\n",
       "        vertical-align: middle;\n",
       "    }\n",
       "\n",
       "    .dataframe tbody tr th {\n",
       "        vertical-align: top;\n",
       "    }\n",
       "\n",
       "    .dataframe thead th {\n",
       "        text-align: right;\n",
       "    }\n",
       "</style>\n",
       "<table border=\"1\" class=\"dataframe\">\n",
       "  <thead>\n",
       "    <tr style=\"text-align: right;\">\n",
       "      <th></th>\n",
       "      <th>label</th>\n",
       "    </tr>\n",
       "  </thead>\n",
       "  <tbody>\n",
       "    <tr>\n",
       "      <th>count</th>\n",
       "      <td>31962.000000</td>\n",
       "    </tr>\n",
       "    <tr>\n",
       "      <th>mean</th>\n",
       "      <td>0.070146</td>\n",
       "    </tr>\n",
       "    <tr>\n",
       "      <th>std</th>\n",
       "      <td>0.255397</td>\n",
       "    </tr>\n",
       "    <tr>\n",
       "      <th>min</th>\n",
       "      <td>0.000000</td>\n",
       "    </tr>\n",
       "    <tr>\n",
       "      <th>25%</th>\n",
       "      <td>0.000000</td>\n",
       "    </tr>\n",
       "    <tr>\n",
       "      <th>50%</th>\n",
       "      <td>0.000000</td>\n",
       "    </tr>\n",
       "    <tr>\n",
       "      <th>75%</th>\n",
       "      <td>0.000000</td>\n",
       "    </tr>\n",
       "    <tr>\n",
       "      <th>max</th>\n",
       "      <td>1.000000</td>\n",
       "    </tr>\n",
       "  </tbody>\n",
       "</table>\n",
       "</div>"
      ],
      "text/plain": [
       "              label\n",
       "count  31962.000000\n",
       "mean       0.070146\n",
       "std        0.255397\n",
       "min        0.000000\n",
       "25%        0.000000\n",
       "50%        0.000000\n",
       "75%        0.000000\n",
       "max        1.000000"
      ]
     },
     "execution_count": 6,
     "metadata": {},
     "output_type": "execute_result"
    }
   ],
   "source": [
    "data.describe()"
   ]
  },
  {
   "cell_type": "markdown",
   "id": "f592088a",
   "metadata": {},
   "source": [
    "#### Assigning X and Y to independent and the dependent Attribute"
   ]
  },
  {
   "cell_type": "code",
   "execution_count": 7,
   "id": "be102590",
   "metadata": {},
   "outputs": [],
   "source": [
    "# Dependent Attribute // Target Attribute\n",
    "Y = data['label']\n",
    "\n",
    "# Independent Attribute\n",
    "X = data.drop(['label'], axis=1)"
   ]
  },
  {
   "cell_type": "code",
   "execution_count": null,
   "id": "01f15584",
   "metadata": {},
   "outputs": [],
   "source": []
  },
  {
   "cell_type": "markdown",
   "id": "a0b5f312",
   "metadata": {},
   "source": [
    "#### Train Test Split\n",
    "\n",
    "<pre>\n",
    "We will stratify the data on the label column so that the distribution of the target label will be the same in both \n",
    "train and test data"
   ]
  },
  {
   "cell_type": "code",
   "execution_count": 8,
   "id": "e46d54ac",
   "metadata": {},
   "outputs": [],
   "source": [
    "train,test = train_test_split(data,test_size=0.2, stratify=Y, random_state=20)"
   ]
  },
  {
   "cell_type": "code",
   "execution_count": 9,
   "id": "22a99ee9",
   "metadata": {},
   "outputs": [
    {
     "data": {
      "text/plain": [
       "0    23775\n",
       "1     1794\n",
       "Name: label, dtype: int64"
      ]
     },
     "execution_count": 9,
     "metadata": {},
     "output_type": "execute_result"
    }
   ],
   "source": [
    "train['label'].value_counts()"
   ]
  },
  {
   "cell_type": "code",
   "execution_count": 10,
   "id": "305f8263",
   "metadata": {},
   "outputs": [
    {
     "data": {
      "text/plain": [
       "0    5945\n",
       "1     448\n",
       "Name: label, dtype: int64"
      ]
     },
     "execution_count": 10,
     "metadata": {},
     "output_type": "execute_result"
    }
   ],
   "source": [
    "test['label'].value_counts()"
   ]
  },
  {
   "cell_type": "code",
   "execution_count": 11,
   "id": "0eba966f",
   "metadata": {},
   "outputs": [
    {
     "data": {
      "text/plain": [
       "((25569,), (25569,))"
      ]
     },
     "execution_count": 11,
     "metadata": {},
     "output_type": "execute_result"
    }
   ],
   "source": [
    "train.tweet.shape, train['label'].shape"
   ]
  },
  {
   "cell_type": "markdown",
   "id": "c091be26",
   "metadata": {},
   "source": [
    "#### Applying TF-IDF "
   ]
  },
  {
   "cell_type": "code",
   "execution_count": 12,
   "id": "f67d4705",
   "metadata": {},
   "outputs": [
    {
     "data": {
      "text/plain": [
       "TfidfVectorizer(max_features=1000,\n",
       "                stop_words=frozenset({'a', 'about', 'above', 'across', 'after',\n",
       "                                      'afterwards', 'again', 'against', 'all',\n",
       "                                      'almost', 'alone', 'along', 'already',\n",
       "                                      'also', 'although', 'always', 'am',\n",
       "                                      'among', 'amongst', 'amoungst', 'amount',\n",
       "                                      'an', 'and', 'another', 'any', 'anyhow',\n",
       "                                      'anyone', 'anything', 'anyway',\n",
       "                                      'anywhere', ...}))"
      ]
     },
     "execution_count": 12,
     "metadata": {},
     "output_type": "execute_result"
    }
   ],
   "source": [
    "tf_idf = TfidfVectorizer(lowercase=True,\\\n",
    "                       stop_words=ENGLISH_STOP_WORDS,\\\n",
    "                       max_features=1000)\n",
    "\n",
    "tf_idf.fit(train.tweet)"
   ]
  },
  {
   "cell_type": "code",
   "execution_count": 13,
   "id": "ee814888",
   "metadata": {},
   "outputs": [],
   "source": [
    "train_tf_idf = tf_idf.transform(train.tweet)\n",
    "test_tf_idf = tf_idf.transform(test.tweet)"
   ]
  },
  {
   "cell_type": "code",
   "execution_count": 14,
   "id": "4866e0c4",
   "metadata": {},
   "outputs": [
    {
     "data": {
      "text/plain": [
       "<25569x1000 sparse matrix of type '<class 'numpy.float64'>'\n",
       "\twith 105576 stored elements in Compressed Sparse Row format>"
      ]
     },
     "execution_count": 14,
     "metadata": {},
     "output_type": "execute_result"
    }
   ],
   "source": [
    "train_tf_idf"
   ]
  },
  {
   "cell_type": "code",
   "execution_count": 15,
   "id": "1cddaff7",
   "metadata": {},
   "outputs": [
    {
     "data": {
      "text/plain": [
       "(25569, 1000)"
      ]
     },
     "execution_count": 15,
     "metadata": {},
     "output_type": "execute_result"
    }
   ],
   "source": [
    "train_tf_idf.shape"
   ]
  },
  {
   "cell_type": "markdown",
   "id": "01bcbd8a",
   "metadata": {},
   "source": [
    " "
   ]
  },
  {
   "cell_type": "markdown",
   "id": "30eb9e2d",
   "metadata": {},
   "source": [
    "### Logistic Regression"
   ]
  },
  {
   "cell_type": "code",
   "execution_count": 16,
   "id": "fbe324f0",
   "metadata": {},
   "outputs": [
    {
     "data": {
      "text/plain": [
       "LogisticRegression()"
      ]
     },
     "execution_count": 16,
     "metadata": {},
     "output_type": "execute_result"
    }
   ],
   "source": [
    "lr = LogisticRegression()\n",
    "\n",
    "# Fitting the Model with Train Dataset\n",
    "lr.fit(train_tf_idf, train.label)"
   ]
  },
  {
   "cell_type": "code",
   "execution_count": 17,
   "id": "dc729dac",
   "metadata": {},
   "outputs": [],
   "source": [
    "train_prediction = lr.predict(train_tf_idf)"
   ]
  },
  {
   "cell_type": "code",
   "execution_count": 18,
   "id": "42621e4a",
   "metadata": {},
   "outputs": [],
   "source": [
    "test_prediction = lr.predict(test_tf_idf)"
   ]
  },
  {
   "cell_type": "code",
   "execution_count": null,
   "id": "9a79a15f",
   "metadata": {},
   "outputs": [],
   "source": []
  },
  {
   "cell_type": "markdown",
   "id": "c90dae9f",
   "metadata": {},
   "source": [
    "### Evaluation"
   ]
  },
  {
   "cell_type": "code",
   "execution_count": 19,
   "id": "e4a319c8",
   "metadata": {},
   "outputs": [],
   "source": [
    "from sklearn.metrics import accuracy_score, confusion_matrix,roc_curve,classification_report"
   ]
  },
  {
   "cell_type": "code",
   "execution_count": 20,
   "id": "215d41ad",
   "metadata": {},
   "outputs": [
    {
     "name": "stdout",
     "output_type": "stream",
     "text": [
      "Train dataset accuracy score:  0.9499784895772224\n",
      "Test dataset accuracy score : 0.9474425152510558\n"
     ]
    }
   ],
   "source": [
    "print(\"Train dataset accuracy score: \", accuracy_score(train.label , train_prediction))\n",
    "print(\"Test dataset accuracy score :\",  accuracy_score(test.label , test_prediction))"
   ]
  },
  {
   "cell_type": "code",
   "execution_count": null,
   "id": "c0704da0",
   "metadata": {},
   "outputs": [],
   "source": []
  },
  {
   "cell_type": "code",
   "execution_count": 21,
   "id": "20f3d0f0",
   "metadata": {},
   "outputs": [
    {
     "name": "stdout",
     "output_type": "stream",
     "text": [
      "Classification Report \n",
      "              precision    recall  f1-score   support\n",
      "\n",
      "           0       0.95      0.99      0.97      5945\n",
      "           1       0.82      0.32      0.46       448\n",
      "\n",
      "    accuracy                           0.95      6393\n",
      "   macro avg       0.89      0.66      0.72      6393\n",
      "weighted avg       0.94      0.95      0.94      6393\n",
      "\n"
     ]
    }
   ],
   "source": [
    "from sklearn.metrics import classification_report\n",
    "\n",
    "# Classification Report on Testing Dataset\n",
    "print(f'Classification Report \\n{classification_report(test.label ,test_prediction)}')"
   ]
  },
  {
   "cell_type": "code",
   "execution_count": 22,
   "id": "352f3195",
   "metadata": {},
   "outputs": [
    {
     "name": "stdout",
     "output_type": "stream",
     "text": [
      "Classification Report \n",
      "              precision    recall  f1-score   support\n",
      "\n",
      "           0       0.95      1.00      0.97     23775\n",
      "           1       0.87      0.34      0.49      1794\n",
      "\n",
      "    accuracy                           0.95     25569\n",
      "   macro avg       0.91      0.67      0.73     25569\n",
      "weighted avg       0.95      0.95      0.94     25569\n",
      "\n"
     ]
    }
   ],
   "source": [
    "# Classification Report on Testing Dataset\n",
    "print(f'Classification Report \\n{classification_report(train.label ,train_prediction)}')"
   ]
  },
  {
   "cell_type": "code",
   "execution_count": 23,
   "id": "8bd36752",
   "metadata": {},
   "outputs": [
    {
     "name": "stdout",
     "output_type": "stream",
     "text": [
      "F1 Score for Training Dataset: 0.4881952781112444\n",
      "F1 Score for Testing Dataset:  0.45980707395498394\n"
     ]
    }
   ],
   "source": [
    "from sklearn.metrics import f1_score\n",
    "\n",
    "# f1 score on train data\n",
    "print(f'F1 Score for Training Dataset: {f1_score(y_true= train.label, y_pred= train_prediction)}')\n",
    "\n",
    "# f1 score on test data\n",
    "print(f'F1 Score for Testing Dataset:  {f1_score(y_true= test.label, y_pred= test_prediction)}')"
   ]
  },
  {
   "cell_type": "markdown",
   "id": "b7348760",
   "metadata": {},
   "source": [
    "---"
   ]
  },
  {
   "cell_type": "markdown",
   "id": "a0cc26e0",
   "metadata": {},
   "source": [
    "---"
   ]
  },
  {
   "cell_type": "markdown",
   "id": "f3224048",
   "metadata": {},
   "source": [
    "## Pipeline"
   ]
  },
  {
   "cell_type": "markdown",
   "id": "a5f5ac77",
   "metadata": {},
   "source": [
    "<pre><b>\n",
    "As we know for the implementing the Logistic Regression Model ; We need the data in proper format i.e. the unnecessary \n",
    "words need to be remove before predicting the result\n",
    "\n",
    "In order to implement this we need to create a pipeline and add both the models i.e. Tfidf and the Logistic Regression \n",
    "with the required parameters"
   ]
  },
  {
   "cell_type": "code",
   "execution_count": 24,
   "id": "c8ede674",
   "metadata": {},
   "outputs": [],
   "source": [
    "pipeline = Pipeline(steps=[\n",
    "    \n",
    "    ('tfidf', TfidfVectorizer(lowercase= True,\\\n",
    "                             stop_words=ENGLISH_STOP_WORDS,\\\n",
    "                             max_features=1000)),\n",
    "    \n",
    "    ('lr_model', LogisticRegression())\n",
    "    \n",
    "])"
   ]
  },
  {
   "cell_type": "code",
   "execution_count": 25,
   "id": "986916c5",
   "metadata": {},
   "outputs": [
    {
     "data": {
      "text/plain": [
       "Pipeline(steps=[('tfidf',\n",
       "                 TfidfVectorizer(max_features=100,\n",
       "                                 stop_words=frozenset({'a', 'about', 'above',\n",
       "                                                       'across', 'after',\n",
       "                                                       'afterwards', 'again',\n",
       "                                                       'against', 'all',\n",
       "                                                       'almost', 'alone',\n",
       "                                                       'along', 'already',\n",
       "                                                       'also', 'although',\n",
       "                                                       'always', 'am', 'among',\n",
       "                                                       'amongst', 'amoungst',\n",
       "                                                       'amount', 'an', 'and',\n",
       "                                                       'another', 'any',\n",
       "                                                       'anyhow', 'anyone',\n",
       "                                                       'anything', 'anyway',\n",
       "                                                       'anywhere', ...}))),\n",
       "                ('lr_model', LogisticRegression())])"
      ]
     },
     "execution_count": 25,
     "metadata": {},
     "output_type": "execute_result"
    }
   ],
   "source": [
    "# Fitting the Training Dataset\n",
    "pipeline.fit(train.tweet, train.label)"
   ]
  },
  {
   "cell_type": "markdown",
   "id": "feca832e",
   "metadata": {},
   "source": [
    "### Testing the Pipeline"
   ]
  },
  {
   "cell_type": "code",
   "execution_count": 26,
   "id": "3d1586ef",
   "metadata": {},
   "outputs": [
    {
     "data": {
      "text/plain": [
       "array([0], dtype=int64)"
      ]
     },
     "execution_count": 26,
     "metadata": {},
     "output_type": "execute_result"
    }
   ],
   "source": [
    "text = ['This isnt great news for the Muslim Community!!']\n",
    "\n",
    "pipeline.predict(text)"
   ]
  },
  {
   "cell_type": "code",
   "execution_count": 27,
   "id": "a29817a8",
   "metadata": {},
   "outputs": [
    {
     "data": {
      "text/plain": [
       "array([0], dtype=int64)"
      ]
     },
     "execution_count": 27,
     "metadata": {},
     "output_type": "execute_result"
    }
   ],
   "source": [
    "# text = ['You Mother Fucker!! Dont you have sense in communicating with the BOSS']\n",
    "# text = [\"@user #cnn calls #michigan middle school 'build the wall' chant '' #tcot \"]\n",
    "\n",
    "# text = [\"I’m in the mood to kill a [racial slur], who’s with me?\"]\n",
    "# text = [\"retweet if you agree! \"]\n",
    "\n",
    "text = [\"I’m sick of these [religious group] thinking they are better than us, if any of you see someone wearing a [religious symbol of the religious group], grab it off them and post pics!\"]\n",
    "\n",
    "pipeline.predict(text)"
   ]
  },
  {
   "cell_type": "code",
   "execution_count": 28,
   "id": "101d7163",
   "metadata": {
    "scrolled": true
   },
   "outputs": [
    {
     "data": {
      "text/plain": [
       "13       @user #cnn calls #michigan middle school 'buil...\n",
       "14       no comment!  in #australia   #opkillingbay #se...\n",
       "17                                  retweet if you agree! \n",
       "23         @user @user lumpy says i am a . prove it lumpy.\n",
       "34       it's unbelievable that in the 21st century we'...\n",
       "                               ...                        \n",
       "31934    lady banned from kentucky mall. @user  #jcpenn...\n",
       "31946    @user omfg i'm offended! i'm a  mailbox and i'...\n",
       "31947    @user @user you don't have the balls to hashta...\n",
       "31948     makes you ask yourself, who am i? then am i a...\n",
       "31960    @user #sikh #temple vandalised in in #calgary,...\n",
       "Name: tweet, Length: 2242, dtype: object"
      ]
     },
     "execution_count": 28,
     "metadata": {},
     "output_type": "execute_result"
    }
   ],
   "source": [
    "label_1 = data[data['label']==1]\n",
    "label_1['tweet']"
   ]
  },
  {
   "cell_type": "markdown",
   "id": "c30feb63",
   "metadata": {},
   "source": [
    "<pre> <b>\n",
    "x-train = input for training (80%) -->  y-train = output of training(80%)\n",
    "x-test  = input for testing (20%)  -->  y-test = output of testng(20%)"
   ]
  },
  {
   "cell_type": "markdown",
   "id": "a18a7a3a",
   "metadata": {},
   "source": [
    "#### ==================================================================================================="
   ]
  },
  {
   "cell_type": "markdown",
   "id": "b013d6c6",
   "metadata": {},
   "source": [
    "### Balance the Imbalance dataset"
   ]
  },
  {
   "cell_type": "code",
   "execution_count": 29,
   "id": "afb3abc5",
   "metadata": {},
   "outputs": [
    {
     "data": {
      "text/plain": [
       "(31962, 2)"
      ]
     },
     "execution_count": 29,
     "metadata": {},
     "output_type": "execute_result"
    }
   ],
   "source": [
    "data.shape"
   ]
  },
  {
   "cell_type": "code",
   "execution_count": 30,
   "id": "f7cc1985",
   "metadata": {},
   "outputs": [
    {
     "data": {
      "text/plain": [
       "0    29720\n",
       "1     2242\n",
       "Name: label, dtype: int64"
      ]
     },
     "execution_count": 30,
     "metadata": {},
     "output_type": "execute_result"
    }
   ],
   "source": [
    "data.label.value_counts()"
   ]
  },
  {
   "cell_type": "code",
   "execution_count": 31,
   "id": "03b65bb3",
   "metadata": {},
   "outputs": [
    {
     "name": "stdout",
     "output_type": "stream",
     "text": [
      "Class 0 :: percentage of data : 92.99%\n",
      "Class 1 :: percentage of data : 7.01%\n",
      "\n",
      "Class 0 is 13.27x times more than Class 1\n"
     ]
    }
   ],
   "source": [
    "print(f'Class 0 :: percentage of data : {round(data.label.value_counts()[0] / data.shape[0] * 100,2)}%')\n",
    "print(f'Class 1 :: percentage of data : {round(data.label.value_counts()[1] / data.shape[0] * 100,2)}%')\n",
    "\n",
    "more = round(data.label.value_counts()[0] / data.shape[0] * 100,2) / round(data.label.value_counts()[1] / data.shape[0] * 100,2)\n",
    "\n",
    "print(f'\\nClass 0 is {round(more,2)}x times more than Class 1')"
   ]
  },
  {
   "cell_type": "code",
   "execution_count": null,
   "id": "1ff1c32f",
   "metadata": {},
   "outputs": [],
   "source": []
  }
 ],
 "metadata": {
  "kernelspec": {
   "display_name": "Python 3 (ipykernel)",
   "language": "python",
   "name": "python3"
  },
  "language_info": {
   "codemirror_mode": {
    "name": "ipython",
    "version": 3
   },
   "file_extension": ".py",
   "mimetype": "text/x-python",
   "name": "python",
   "nbconvert_exporter": "python",
   "pygments_lexer": "ipython3",
   "version": "3.7.9"
  }
 },
 "nbformat": 4,
 "nbformat_minor": 5
}
